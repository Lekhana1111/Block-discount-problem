{
  "nbformat": 4,
  "nbformat_minor": 0,
  "metadata": {
    "colab": {
      "provenance": []
    },
    "kernelspec": {
      "name": "python3",
      "display_name": "Python 3"
    },
    "language_info": {
      "name": "python"
    }
  },
  "cells": [
    {
      "cell_type": "code",
      "source": [
        "import numpy as np"
      ],
      "metadata": {
        "id": "ZFwwRkFTNcgy"
      },
      "execution_count": 2,
      "outputs": []
    },
    {
      "cell_type": "code",
      "source": [
        "# Define the states and actions\n",
        "states = ['a', 'b', 'c', 'd', 'e']\n",
        "actions = ['Left', 'Right', 'Exit']\n",
        "\n",
        "# Define rewards\n",
        "rewards = {\n",
        "    'a': {'Exit': 10},\n",
        "    'b': {'Left': 0, 'Right': 0},\n",
        "    'c': {'Left': 0, 'Right': 0},\n",
        "    'd': {'Left': 0, 'Right': 0},\n",
        "    'e': {'Exit': 1}\n",
        "}\n"
      ],
      "metadata": {
        "id": "7gC2EQzV46b9"
      },
      "execution_count": 3,
      "outputs": []
    },
    {
      "cell_type": "code",
      "source": [
        "def transition(state, action):\n",
        "    if state == 'a':\n",
        "        if action == 'Exit':\n",
        "            return None\n",
        "        elif action == 'Right':\n",
        "            return 'b'\n",
        "    elif state == 'b':\n",
        "        if action == 'Left':\n",
        "            return 'a'\n",
        "        elif action == 'Right':\n",
        "            return 'c'\n",
        "    elif state == 'c':\n",
        "        if action == 'Left':\n",
        "            return 'b'\n",
        "        elif action == 'Right':\n",
        "            return 'd'\n",
        "    elif state == 'd':\n",
        "        if action == 'Left':\n",
        "            return 'c'\n",
        "        elif action == 'Right':\n",
        "            return 'e'\n",
        "    elif state == 'e':\n",
        "        if action == 'Exit':\n",
        "            return None\n",
        "        elif action == 'Left':\n",
        "            return 'd'\n",
        "    return state\n"
      ],
      "metadata": {
        "id": "P82Ttq3949Rb"
      },
      "execution_count": 4,
      "outputs": []
    },
    {
      "cell_type": "code",
      "source": [
        "def value_iteration(gamma, threshold=0.01):\n",
        "    values = {state: 0 for state in states}\n",
        "    policy = {state: None for state in states}\n",
        "\n",
        "    while True:\n",
        "        delta = 0\n",
        "        new_values = values.copy()\n",
        "\n",
        "        for state in states:\n",
        "            if state == 'a' or state == 'e':\n",
        "                action_values = {action: rewards[state].get(action, 0) for action in actions}\n",
        "            else:\n",
        "                action_values = {}\n",
        "                for action in actions:\n",
        "                    next_state = transition(state, action)\n",
        "                    if next_state is not None:\n",
        "                        action_values[action] = rewards[state].get(action, 0) + gamma * values[next_state]\n",
        "\n",
        "            best_action = max(action_values, key=action_values.get)\n",
        "            new_values[state] = action_values[best_action]\n",
        "            policy[state] = best_action\n",
        "\n",
        "            delta = max(delta, abs(new_values[state] - values[state]))\n",
        "\n",
        "        values = new_values\n",
        "\n",
        "        if delta < threshold:\n",
        "            break\n",
        "\n",
        "    return policy, values\n"
      ],
      "metadata": {
        "id": "-iHScKSG4_xC"
      },
      "execution_count": 5,
      "outputs": []
    },
    {
      "cell_type": "code",
      "source": [
        "gamma_values = [1, 0.1]\n",
        "policies = {}\n",
        "values = {}\n",
        "\n",
        "for gamma in gamma_values:\n",
        "    policy, value = value_iteration(gamma)\n",
        "    policies[gamma] = policy\n",
        "    values[gamma] = value\n",
        "\n",
        "for gamma in gamma_values:\n",
        "    print(f\"Optimal Policy for γ={gamma}: {policies[gamma]}\")\n",
        "    print(f\"State Values for γ={gamma}: {values[gamma]}\")\n"
      ],
      "metadata": {
        "colab": {
          "base_uri": "https://localhost:8080/"
        },
        "id": "zDAhOghW5B-9",
        "outputId": "5b7f1fb3-6675-4262-9ef8-a4805bd05a9d"
      },
      "execution_count": 6,
      "outputs": [
        {
          "output_type": "stream",
          "name": "stdout",
          "text": [
            "Optimal Policy for γ=1: {'a': 'Exit', 'b': 'Left', 'c': 'Left', 'd': 'Left', 'e': 'Exit'}\n",
            "State Values for γ=1: {'a': 10, 'b': 10, 'c': 10, 'd': 10, 'e': 1}\n",
            "Optimal Policy for γ=0.1: {'a': 'Exit', 'b': 'Left', 'c': 'Left', 'd': 'Right', 'e': 'Exit'}\n",
            "State Values for γ=0.1: {'a': 10, 'b': 1.0, 'c': 0.1, 'd': 0.1, 'e': 1}\n"
          ]
        }
      ]
    },
    {
      "cell_type": "code",
      "source": [
        "def find_equal_gamma(threshold=0.001):\n",
        "    low, high = 0, 1\n",
        "    while high - low > threshold:\n",
        "        gamma = (low + high) / 2\n",
        "        policy, values = value_iteration(gamma)\n",
        "\n",
        "        left_value = rewards['d'].get('Left', 0) + gamma * values[transition('d', 'Left')]\n",
        "        right_value = rewards['d'].get('Right', 0) + gamma * values[transition('d', 'Right')]\n",
        "\n",
        "        if abs(left_value - right_value) < threshold:\n",
        "            return gamma\n",
        "        elif left_value > right_value:\n",
        "            high = gamma\n",
        "        else:\n",
        "            low = gamma\n",
        "\n",
        "    return (low + high) / 2\n",
        "\n",
        "gamma_equal = find_equal_gamma()\n",
        "print(f\"Gamma value where 'West' and 'East' are equally good in state 'd': {gamma_equal:.4f}\")\n"
      ],
      "metadata": {
        "colab": {
          "base_uri": "https://localhost:8080/"
        },
        "id": "bQnsY4O-5FTt",
        "outputId": "780d106d-4b6c-49e9-e6c5-a7bccc87f058"
      },
      "execution_count": 7,
      "outputs": [
        {
          "output_type": "stream",
          "name": "stdout",
          "text": [
            "Gamma value where 'West' and 'East' are equally good in state 'd': 0.3164\n"
          ]
        }
      ]
    }
  ]
}